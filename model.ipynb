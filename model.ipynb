{
 "cells": [
  {
   "cell_type": "code",
   "execution_count": 1,
   "metadata": {},
   "outputs": [
    {
     "name": "stderr",
     "output_type": "stream",
     "text": [
      "c:\\Users\\higak\\anaconda3\\envs\\nlp\\lib\\site-packages\\past\\builtins\\misc.py:45: DeprecationWarning: the imp module is deprecated in favour of importlib; see the module's documentation for alternative uses\n",
      "  from imp import reload\n"
     ]
    }
   ],
   "source": [
    "import pandas as pd\n",
    "import MeCab\n",
    "import gensim\n",
    "import numpy as np\n",
    "import matplotlib.pyplot as plt\n",
    "import ipadic\n",
    "import pyLDAvis\n",
    "import pyLDAvis.gensim_models\n",
    "pyLDAvis.enable_notebook()"
   ]
  },
  {
   "cell_type": "code",
   "execution_count": 2,
   "metadata": {},
   "outputs": [
    {
     "name": "stdout",
     "output_type": "stream",
     "text": [
      "                                             content  negaposi\n",
      "0  コロナワクチンは、人体をスパイクタンパク質工場に変化させ、さらに摂取していない人にも被爆させ... -0.200000\n",
      "1  「マスク意味ないですよね？コロナより熱中症の方が怖いのでしません」と答えると、\\n\\n「ルー... -0.600000\n",
      "2       @w0tteNiPzcSbr0V その時はコロナはありましたっけ?\\nコロナでの負担が。 -0.333333\n",
      "3  @kbc_sunshine くまざわ書店 サンシャインシティアルパ店のみんな、今「えいが　そ... -0.142857\n",
      "4  今朝から発熱報告が続々。\\nこれから何人がコロナ陽性になるのか。\\nかなり厳しい状況になって... -0.250000\n"
     ]
    }
   ],
   "source": [
    "nega = pd.read_csv(\"./out/nega.csv\")\n",
    "print(nega.head())"
   ]
  },
  {
   "cell_type": "code",
   "execution_count": 3,
   "metadata": {},
   "outputs": [],
   "source": [
    "def parse(tweet_temp):\n",
    "    t = MeCab.Tagger(ipadic.MECAB_ARGS)\n",
    "    temp1 = t.parse(tweet_temp)\n",
    "    temp2 = temp1.split(\"\\n\")\n",
    "    t_list = []\n",
    "    for keitaiso in temp2:\n",
    "        if keitaiso not in [\"EOS\", \"\"]:\n",
    "            word, hinshi = keitaiso.split(\"\\t\")\n",
    "            t_temp = [word] + hinshi.split(\",\")\n",
    "            if len(t_temp) != 10:\n",
    "                t_temp += [\"*\"]*(10-len(t_temp))\n",
    "            t_list.append(t_temp)\n",
    "    return t_list\n",
    "\n",
    "def parse_to_df(tweet_temp):\n",
    "    return pd.DataFrame(parse(tweet_temp),\n",
    "                        columns=[\"単語\",\"品詞\",\"品詞細分類1\",\n",
    "                                 \"品詞細分類2\",\"品詞細分類3\",\n",
    "                                 \"活用型\",\"活用形\",\"原形\",\"読み\",\"発音\"])\n",
    "    \n",
    "def make_lda_docs(texts):\n",
    "    docs = []\n",
    "    for text in texts:\n",
    "        df = parse_to_df(text)\n",
    "        extract_df = df[(df[\"品詞\"]+\"/\"+df[\"品詞細分類1\"]).isin([\"名詞/一般\",\"名詞/固有名詞\"])]\n",
    "        extract_df = extract_df[extract_df[\"原形\"]!=\"*\"]\n",
    "        doc = []\n",
    "        for genkei in extract_df[\"原形\"]:\n",
    "            doc.append(genkei)\n",
    "        docs.append(doc)\n",
    "    return docs"
   ]
  },
  {
   "cell_type": "code",
   "execution_count": 4,
   "metadata": {},
   "outputs": [
    {
     "name": "stdout",
     "output_type": "stream",
     "text": [
      "['コロナ', 'ワクチン', '人体', 'タンパク質', '工場', '人']\n"
     ]
    }
   ],
   "source": [
    "texts = nega[\"content\"].values\n",
    "docs = make_lda_docs(texts)\n",
    "print(docs[0])\n",
    "dictionary = gensim.corpora.Dictionary(docs)\n",
    "corpus = [dictionary.doc2bow(doc) for doc in docs]"
   ]
  },
  {
   "cell_type": "code",
   "execution_count": 5,
   "metadata": {},
   "outputs": [
    {
     "name": "stdout",
     "output_type": "stream",
     "text": [
      "テキスト：\n",
      "コロナワクチンは、人体をスパイクタンパク質工場に変化させ、さらに摂取していない人にも被爆させる\n",
      " https://t.co/f7NtlMYRoX\n",
      " \n",
      "LDAで読む単語：\n",
      "コロナ,ワクチン,人体,タンパク質,工場,人\n"
     ]
    }
   ],
   "source": [
    "print(\"テキスト：\")\n",
    "print(texts[0][:200])\n",
    "print(\" \")\n",
    "print(\"LDAで読む単語：\")\n",
    "print(\",\".join(docs[0][:50]))"
   ]
  },
  {
   "cell_type": "code",
   "execution_count": 6,
   "metadata": {},
   "outputs": [],
   "source": [
    "n_cluster = 4\n",
    "lda = gensim.models.LdaModel(\n",
    "                corpus=corpus,\n",
    "                id2word=dictionary,\n",
    "                num_topics=n_cluster,\n",
    "                minimum_probability=0.001,\n",
    "                passes=20,\n",
    "                update_every=0,\n",
    "                chunksize=10000,\n",
    "                random_state=1\n",
    ")"
   ]
  },
  {
   "cell_type": "code",
   "execution_count": 7,
   "metadata": {},
   "outputs": [],
   "source": [
    "corpus_lda = lda[corpus]\n",
    "arr = gensim.matutils.corpus2dense(\n",
    "        corpus_lda,\n",
    "        num_terms=n_cluster\n",
    ").T"
   ]
  },
  {
   "cell_type": "markdown",
   "metadata": {},
   "source": [
    "### トピック-単語分布の可視化"
   ]
  },
  {
   "cell_type": "code",
   "execution_count": 8,
   "metadata": {},
   "outputs": [],
   "source": [
    "lists = []\n",
    "for i in range(n_cluster):\n",
    "    temp_df = pd.DataFrame(lda.show_topic(i), columns=[\"word\", \"score\"])\n",
    "    temp_df[\"topic\"] = i\n",
    "    lists.append(temp_df)\n",
    "topic_word_df = pd.concat(lists, ignore_index=True)\n",
    "\n",
    "topic_word_df.to_csv(\"./out/topic_word_df.csv\", index=False)"
   ]
  },
  {
   "cell_type": "code",
   "execution_count": 9,
   "metadata": {},
   "outputs": [],
   "source": [
    "#topic_word_df[\"rank\"] = topic_word_df.groupby(\"topic\")[\"score\"].rank()\n",
    "#topic_word_df.pivot(index='topic', columns='rank', values='word')"
   ]
  },
  {
   "cell_type": "code",
   "execution_count": 10,
   "metadata": {},
   "outputs": [
    {
     "name": "stderr",
     "output_type": "stream",
     "text": [
      "c:\\Users\\higak\\anaconda3\\envs\\nlp\\lib\\site-packages\\pyLDAvis\\_prepare.py:246: FutureWarning: In a future version of pandas all arguments of DataFrame.drop except for the argument 'labels' will be keyword-only.\n",
      "  default_term_info = default_term_info.sort_values(\n"
     ]
    }
   ],
   "source": [
    "vis = pyLDAvis.gensim_models.prepare(lda, corpus, dictionary, sort_topics=False)\n",
    "pyLDAvis.save_html(vis, \"./out/pyldavis_output.html\")"
   ]
  },
  {
   "cell_type": "code",
   "execution_count": null,
   "metadata": {},
   "outputs": [],
   "source": []
  }
 ],
 "metadata": {
  "kernelspec": {
   "display_name": "Python 3.9.12 ('nlp')",
   "language": "python",
   "name": "python3"
  },
  "language_info": {
   "codemirror_mode": {
    "name": "ipython",
    "version": 3
   },
   "file_extension": ".py",
   "mimetype": "text/x-python",
   "name": "python",
   "nbconvert_exporter": "python",
   "pygments_lexer": "ipython3",
   "version": "3.9.12"
  },
  "orig_nbformat": 4,
  "vscode": {
   "interpreter": {
    "hash": "ec8606a87ddd9ea784312b8a43747db1e71e65a3295216b32b56bfb4ddec1439"
   }
  }
 },
 "nbformat": 4,
 "nbformat_minor": 2
}
